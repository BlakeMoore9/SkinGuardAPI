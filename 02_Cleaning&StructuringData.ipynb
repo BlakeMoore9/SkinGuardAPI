{
 "cells": [
  {
   "cell_type": "markdown",
   "id": "c5ef8226",
   "metadata": {},
   "source": [
    "## Decisions\n",
    "- There are 254 images with missing metadate. These will be kept, as the data is not neccessary for my case of predicting the diagnosis only from the image. For further analysis it could be interesing to use the metadata (see documentation for discussion)\n",
    "\n",
    "**Preprocessing for ResNet-50**<br>\n",
    "\n",
    "- Using PIL instead of Tensorflow for resizing\n",
    "- stratified splitting into train/test datasets\n",
    "- Organizing Images for train and testing into subfolders for diagnoses\n",
    "- no one-hot-encoding, will use keras \"datagen.flow_from_dataframe()\"\n",
    "- no resampling (using class weights)"
   ]
  },
  {
   "cell_type": "code",
   "execution_count": 1,
   "id": "eb1046e0",
   "metadata": {},
   "outputs": [],
   "source": [
    "import os\n",
    "from PIL import Image, ImageOps\n",
    "import pandas as pd\n",
    "import os\n",
    "import shutil\n",
    "from sklearn.model_selection import train_test_split\n",
    "import numpy as np"
   ]
  },
  {
   "cell_type": "code",
   "execution_count": 2,
   "id": "aace17b8",
   "metadata": {},
   "outputs": [],
   "source": [
    "# Directory Paths\n",
    "image_dir = r\"D:\\cancer\\images\"\n",
    "resized_dir = r'D:\\cancer\\resized_images'\n",
    "destination_dir = r'D:\\cancer\\organized'"
   ]
  },
  {
   "cell_type": "code",
   "execution_count": 3,
   "id": "c3251389",
   "metadata": {},
   "outputs": [],
   "source": [
    "df = pd.read_csv(r\"D:\\cancer\\HAM10000_metadata.csv\")"
   ]
  },
  {
   "cell_type": "code",
   "execution_count": 4,
   "id": "a57476b5",
   "metadata": {},
   "outputs": [
    {
     "data": {
      "text/html": [
       "<div>\n",
       "<style scoped>\n",
       "    .dataframe tbody tr th:only-of-type {\n",
       "        vertical-align: middle;\n",
       "    }\n",
       "\n",
       "    .dataframe tbody tr th {\n",
       "        vertical-align: top;\n",
       "    }\n",
       "\n",
       "    .dataframe thead th {\n",
       "        text-align: right;\n",
       "    }\n",
       "</style>\n",
       "<table border=\"1\" class=\"dataframe\">\n",
       "  <thead>\n",
       "    <tr style=\"text-align: right;\">\n",
       "      <th></th>\n",
       "      <th>lesion_id</th>\n",
       "      <th>image_id</th>\n",
       "      <th>dx</th>\n",
       "      <th>dx_type</th>\n",
       "      <th>age</th>\n",
       "      <th>sex</th>\n",
       "      <th>localization</th>\n",
       "    </tr>\n",
       "  </thead>\n",
       "  <tbody>\n",
       "    <tr>\n",
       "      <th>0</th>\n",
       "      <td>HAM_0000118</td>\n",
       "      <td>ISIC_0027419</td>\n",
       "      <td>bkl</td>\n",
       "      <td>histo</td>\n",
       "      <td>80.0</td>\n",
       "      <td>male</td>\n",
       "      <td>scalp</td>\n",
       "    </tr>\n",
       "    <tr>\n",
       "      <th>1</th>\n",
       "      <td>HAM_0000118</td>\n",
       "      <td>ISIC_0025030</td>\n",
       "      <td>bkl</td>\n",
       "      <td>histo</td>\n",
       "      <td>80.0</td>\n",
       "      <td>male</td>\n",
       "      <td>scalp</td>\n",
       "    </tr>\n",
       "    <tr>\n",
       "      <th>2</th>\n",
       "      <td>HAM_0002730</td>\n",
       "      <td>ISIC_0026769</td>\n",
       "      <td>bkl</td>\n",
       "      <td>histo</td>\n",
       "      <td>80.0</td>\n",
       "      <td>male</td>\n",
       "      <td>scalp</td>\n",
       "    </tr>\n",
       "    <tr>\n",
       "      <th>3</th>\n",
       "      <td>HAM_0002730</td>\n",
       "      <td>ISIC_0025661</td>\n",
       "      <td>bkl</td>\n",
       "      <td>histo</td>\n",
       "      <td>80.0</td>\n",
       "      <td>male</td>\n",
       "      <td>scalp</td>\n",
       "    </tr>\n",
       "    <tr>\n",
       "      <th>4</th>\n",
       "      <td>HAM_0001466</td>\n",
       "      <td>ISIC_0031633</td>\n",
       "      <td>bkl</td>\n",
       "      <td>histo</td>\n",
       "      <td>75.0</td>\n",
       "      <td>male</td>\n",
       "      <td>ear</td>\n",
       "    </tr>\n",
       "  </tbody>\n",
       "</table>\n",
       "</div>"
      ],
      "text/plain": [
       "     lesion_id      image_id   dx dx_type   age   sex localization\n",
       "0  HAM_0000118  ISIC_0027419  bkl   histo  80.0  male        scalp\n",
       "1  HAM_0000118  ISIC_0025030  bkl   histo  80.0  male        scalp\n",
       "2  HAM_0002730  ISIC_0026769  bkl   histo  80.0  male        scalp\n",
       "3  HAM_0002730  ISIC_0025661  bkl   histo  80.0  male        scalp\n",
       "4  HAM_0001466  ISIC_0031633  bkl   histo  75.0  male          ear"
      ]
     },
     "execution_count": 4,
     "metadata": {},
     "output_type": "execute_result"
    }
   ],
   "source": [
    "df.head()"
   ]
  },
  {
   "cell_type": "markdown",
   "id": "31374a5b",
   "metadata": {},
   "source": [
    "## Resizing images"
   ]
  },
  {
   "cell_type": "code",
   "execution_count": 5,
   "id": "6f59b443",
   "metadata": {},
   "outputs": [],
   "source": [
    "def resize_and_pad_image(img, desired_size=224):\n",
    "    \"\"\"\n",
    "    Resize an image to the desired size while maintaining its original aspect ratio. \n",
    "    Pad with black pixels if the resized image is not square.\n",
    "    \"\"\"\n",
    "    # Calculate aspect ratio of the original image\n",
    "    aspect_ratio = img.width / img.height\n",
    "    new_width = int(desired_size * aspect_ratio)\n",
    "    new_height = desired_size\n",
    "    \n",
    "    # Resize the image (maintaining the aspect ratio)\n",
    "    img_resized = img.resize((new_width, new_height), Image.BICUBIC)\n",
    "    \n",
    "    # Pad the image to make it square\n",
    "    img_padded = ImageOps.expand(img_resized, (0, 0, desired_size - new_width, 0), fill='black')\n",
    "    \n",
    "    return img_padded\n",
    "\n",
    "def process_images(input_dir, output_dir, desired_size=224):\n",
    "    os.makedirs(output_dir, exist_ok=True)\n",
    "\n",
    "    for image_file in os.listdir(input_dir):\n",
    "        if image_file.endswith('.jpg'):\n",
    "            input_path = os.path.join(input_dir, image_file)\n",
    "            output_path = os.path.join(output_dir, image_file)\n",
    "            \n",
    "            try:\n",
    "                # Open the image\n",
    "                with Image.open(input_path) as img:\n",
    "                    img_resized = resize_and_pad_image(img, desired_size)\n",
    "                    img_resized.save(output_path)\n",
    "            except Exception as e:\n",
    "                print(f\"Error processing {image_file}: {e}\")\n"
   ]
  },
  {
   "cell_type": "code",
   "execution_count": 6,
   "id": "a83e279f",
   "metadata": {},
   "outputs": [],
   "source": [
    "# Call the function\n",
    "process_images(image_dir, resized_dir)"
   ]
  },
  {
   "cell_type": "markdown",
   "id": "ae661063",
   "metadata": {},
   "source": [
    "## Reorganizing the images into separate Diagnosis directories"
   ]
  },
  {
   "cell_type": "code",
   "execution_count": 7,
   "id": "f18ddcba",
   "metadata": {},
   "outputs": [],
   "source": [
    "# Split data into training, validation, and testing sets (60% train, 20% validation, 20% test)\n",
    "train_df, temp_df = train_test_split(df, test_size=0.4, stratify=df['dx'], random_state=42)\n",
    "val_df, test_df = train_test_split(temp_df, test_size=0.5, stratify=temp_df['dx'], random_state=42)"
   ]
  },
  {
   "cell_type": "code",
   "execution_count": 8,
   "id": "139a6eaa",
   "metadata": {},
   "outputs": [],
   "source": [
    "# Function to organize images\n",
    "def organize_images(dataframe, subset_name):\n",
    "    subset_dir = os.path.join(destination_dir, subset_name)\n",
    "    os.makedirs(subset_dir, exist_ok=True)\n",
    "    \n",
    "    for index, row in dataframe.iterrows():\n",
    "        diagnosis = row['dx']\n",
    "        image_file = row['image_id'] + '.jpg'\n",
    "        \n",
    "        # Create directory for diagnosis\n",
    "        diagnosis_dir = os.path.join(subset_dir, diagnosis)\n",
    "        os.makedirs(diagnosis_dir, exist_ok=True)\n",
    "        \n",
    "        # Move the image to the corresponding directory\n",
    "        source_path = os.path.join(resized_dir, image_file)\n",
    "        destination_path = os.path.join(diagnosis_dir, image_file)\n",
    "        shutil.move(source_path, destination_path)"
   ]
  },
  {
   "cell_type": "code",
   "execution_count": 9,
   "id": "0d5da6cf",
   "metadata": {},
   "outputs": [],
   "source": [
    "# Organize training images\n",
    "organize_images(train_df, 'train')\n",
    "\n",
    "# Organize validation images\n",
    "organize_images(val_df, 'validation')\n",
    "\n",
    "# Organize testing images\n",
    "organize_images(test_df, 'test')"
   ]
  },
  {
   "cell_type": "code",
   "execution_count": 10,
   "id": "18054c0e",
   "metadata": {},
   "outputs": [],
   "source": [
    "##End##"
   ]
  }
 ],
 "metadata": {
  "kernelspec": {
   "display_name": "Python 3 (ipykernel)",
   "language": "python",
   "name": "python3"
  },
  "language_info": {
   "codemirror_mode": {
    "name": "ipython",
    "version": 3
   },
   "file_extension": ".py",
   "mimetype": "text/x-python",
   "name": "python",
   "nbconvert_exporter": "python",
   "pygments_lexer": "ipython3",
   "version": "3.11.4"
  },
  "toc": {
   "base_numbering": 1,
   "nav_menu": {},
   "number_sections": true,
   "sideBar": true,
   "skip_h1_title": true,
   "title_cell": "Table of Contents",
   "title_sidebar": "Contents",
   "toc_cell": false,
   "toc_position": {},
   "toc_section_display": true,
   "toc_window_display": false
  },
  "varInspector": {
   "cols": {
    "lenName": 16,
    "lenType": 16,
    "lenVar": 40
   },
   "kernels_config": {
    "python": {
     "delete_cmd_postfix": "",
     "delete_cmd_prefix": "del ",
     "library": "var_list.py",
     "varRefreshCmd": "print(var_dic_list())"
    },
    "r": {
     "delete_cmd_postfix": ") ",
     "delete_cmd_prefix": "rm(",
     "library": "var_list.r",
     "varRefreshCmd": "cat(var_dic_list()) "
    }
   },
   "types_to_exclude": [
    "module",
    "function",
    "builtin_function_or_method",
    "instance",
    "_Feature"
   ],
   "window_display": false
  }
 },
 "nbformat": 4,
 "nbformat_minor": 5
}
